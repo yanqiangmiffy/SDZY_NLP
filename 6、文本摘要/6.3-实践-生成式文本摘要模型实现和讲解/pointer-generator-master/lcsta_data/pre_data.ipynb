{
 "cells": [
  {
   "cell_type": "markdown",
   "id": "unknown-purse",
   "metadata": {},
   "source": [
    "# 准备训练数据\n",
    "1. 分词\n",
    "2. 构造词典\n",
    "3. 构造train/dev/text"
   ]
  },
  {
   "cell_type": "code",
   "execution_count": 14,
   "id": "loose-richmond",
   "metadata": {},
   "outputs": [
    {
     "name": "stderr",
     "output_type": "stream",
     "text": [
      "\u001b[37m---    Fused 0 subgraphs into layer_norm op.\u001b[0m\n"
     ]
    }
   ],
   "source": [
    "import pandas as pd\n",
    "from LAC import LAC\n",
    "lac = LAC(mode='seg')"
   ]
  },
  {
   "cell_type": "code",
   "execution_count": 4,
   "id": "fancy-bracelet",
   "metadata": {},
   "outputs": [],
   "source": [
    "def _seg_text(text):\n",
    "    seg_result = lac.run(text)\n",
    "    return ' '.join(seg_result)"
   ]
  },
  {
   "cell_type": "code",
   "execution_count": 11,
   "id": "emerging-retrieval",
   "metadata": {},
   "outputs": [],
   "source": [
    "# 加载数据\n",
    "src = pd.read_csv('test.src', names=['src'])\n",
    "tgt = pd.read_csv('test.tgt', names=['tgt'])"
   ]
  },
  {
   "cell_type": "code",
   "execution_count": 31,
   "id": "handy-spray",
   "metadata": {},
   "outputs": [
    {
     "data": {
      "text/plain": [
       "(725, 2)"
      ]
     },
     "execution_count": 31,
     "metadata": {},
     "output_type": "execute_result"
    }
   ],
   "source": [
    "src.shape"
   ]
  },
  {
   "cell_type": "code",
   "execution_count": 10,
   "id": "confident-brazilian",
   "metadata": {},
   "outputs": [],
   "source": [
    "# 分词"
   ]
  },
  {
   "cell_type": "code",
   "execution_count": 23,
   "id": "blocked-picking",
   "metadata": {},
   "outputs": [],
   "source": [
    "src['seg_src'] = src.src.apply(_seg_text)"
   ]
  },
  {
   "cell_type": "code",
   "execution_count": 24,
   "id": "banned-samuel",
   "metadata": {},
   "outputs": [],
   "source": [
    "tgt['seg_tgt'] = tgt.tgt.apply(_seg_text)"
   ]
  },
  {
   "cell_type": "code",
   "execution_count": 26,
   "id": "selective-offense",
   "metadata": {},
   "outputs": [],
   "source": [
    "seg_src_tgt = pd.concat([src[['seg_src']], tgt[['seg_tgt']]], axis=1)"
   ]
  },
  {
   "cell_type": "code",
   "execution_count": 32,
   "id": "southwest-onion",
   "metadata": {},
   "outputs": [],
   "source": [
    "seg_src_tgt['src_tgt'] = seg_src_tgt['seg_src'] + '<SEP>' + seg_src_tgt['seg_tgt']"
   ]
  },
  {
   "cell_type": "code",
   "execution_count": 34,
   "id": "outstanding-private",
   "metadata": {},
   "outputs": [],
   "source": []
  },
  {
   "cell_type": "code",
   "execution_count": 36,
   "id": "gentle-burst",
   "metadata": {},
   "outputs": [],
   "source": [
    "def _split(x):\n",
    "    return x.split(' ')"
   ]
  },
  {
   "cell_type": "code",
   "execution_count": 38,
   "id": "adolescent-tobacco",
   "metadata": {},
   "outputs": [],
   "source": [
    "seg_src_tgt['tgt_list'] = seg_src_tgt.seg_tgt.apply(_split)"
   ]
  },
  {
   "cell_type": "code",
   "execution_count": 39,
   "id": "agricultural-overall",
   "metadata": {},
   "outputs": [],
   "source": [
    "seg_src_tgt['src_list'] = seg_src_tgt.seg_src.apply(_split)"
   ]
  },
  {
   "cell_type": "code",
   "execution_count": 91,
   "id": "regular-strain",
   "metadata": {},
   "outputs": [],
   "source": [
    "sample_seg_src_tgt = seg_src_tgt.sample(frac=0.5, random_state=42)"
   ]
  },
  {
   "cell_type": "code",
   "execution_count": 92,
   "id": "therapeutic-journalism",
   "metadata": {},
   "outputs": [
    {
     "data": {
      "text/plain": [
       "(362, 5)"
      ]
     },
     "execution_count": 92,
     "metadata": {},
     "output_type": "execute_result"
    }
   ],
   "source": [
    "sample_seg_src_tgt.shape"
   ]
  },
  {
   "cell_type": "code",
   "execution_count": null,
   "id": "intellectual-petersburg",
   "metadata": {},
   "outputs": [],
   "source": [
    "# 生成vocab"
   ]
  },
  {
   "cell_type": "code",
   "execution_count": 93,
   "id": "minute-retrieval",
   "metadata": {},
   "outputs": [],
   "source": [
    "vocab = []"
   ]
  },
  {
   "cell_type": "code",
   "execution_count": 94,
   "id": "martial-switch",
   "metadata": {},
   "outputs": [],
   "source": [
    "for index, row in sample_seg_src_tgt.iterrows():\n",
    "    vocab += row['tgt_list']\n",
    "    vocab += row['src_list']"
   ]
  },
  {
   "cell_type": "code",
   "execution_count": 99,
   "id": "divine-tackle",
   "metadata": {
    "scrolled": true
   },
   "outputs": [
    {
     "data": {
      "text/plain": [
       "7612"
      ]
     },
     "execution_count": 99,
     "metadata": {},
     "output_type": "execute_result"
    }
   ],
   "source": [
    "len(set(vocab))"
   ]
  },
  {
   "cell_type": "code",
   "execution_count": 100,
   "id": "emotional-bloom",
   "metadata": {},
   "outputs": [],
   "source": [
    "vocab = list(set(vocab))\n",
    "with open('vocab.txt', 'w+') as w:\n",
    "    for t in vocab:\n",
    "        w.write(t + '\\n')"
   ]
  },
  {
   "cell_type": "code",
   "execution_count": 96,
   "id": "imposed-campaign",
   "metadata": {},
   "outputs": [],
   "source": [
    "import numpy as np\n",
    "train, dev = np.split(sample_seg_src_tgt[['src_tgt']], [int(0.8 * len(sample_seg_src_tgt)),]) "
   ]
  },
  {
   "cell_type": "code",
   "execution_count": 97,
   "id": "temporal-windows",
   "metadata": {},
   "outputs": [],
   "source": [
    "train.to_csv('train_sample.txt', index=False, header=False)"
   ]
  },
  {
   "cell_type": "code",
   "execution_count": 98,
   "id": "flying-disposal",
   "metadata": {},
   "outputs": [],
   "source": [
    "dev.to_csv('dev_sample.txt', index=False, header=False)"
   ]
  },
  {
   "cell_type": "code",
   "execution_count": 35,
   "id": "eligible-award",
   "metadata": {},
   "outputs": [],
   "source": [
    "# 统计长度"
   ]
  },
  {
   "cell_type": "code",
   "execution_count": 53,
   "id": "suburban-period",
   "metadata": {},
   "outputs": [],
   "source": [
    "src_len = seg_src_tgt['src_list'].apply(len)\n",
    "tgt_len = seg_src_tgt['tgt_list'].apply(len)"
   ]
  },
  {
   "cell_type": "code",
   "execution_count": 52,
   "id": "industrial-explosion",
   "metadata": {},
   "outputs": [
    {
     "name": "stderr",
     "output_type": "stream",
     "text": [
      "/home/humeng/anaconda3/envs/pytorch-multi/lib/python3.8/site-packages/seaborn/distributions.py:2557: FutureWarning: `distplot` is a deprecated function and will be removed in a future version. Please adapt your code to use either `displot` (a figure-level function with similar flexibility) or `histplot` (an axes-level function for histograms).\n",
      "  warnings.warn(msg, FutureWarning)\n"
     ]
    },
    {
     "data": {
      "image/png": "[encoded data removed]",
      "text/plain": [
       "<Figure size 432x288 with 1 Axes>"
      ]
     },
     "metadata": {
      "needs_background": "light"
     },
     "output_type": "display_data"
    }
   ],
   "source": [
    "sns.distplot(src_len);"
   ]
  },
  {
   "cell_type": "code",
   "execution_count": 51,
   "id": "better-triangle",
   "metadata": {},
   "outputs": [
    {
     "name": "stderr",
     "output_type": "stream",
     "text": [
      "/home/humeng/anaconda3/envs/pytorch-multi/lib/python3.8/site-packages/seaborn/distributions.py:2557: FutureWarning: `distplot` is a deprecated function and will be removed in a future version. Please adapt your code to use either `displot` (a figure-level function with similar flexibility) or `histplot` (an axes-level function for histograms).\n",
      "  warnings.warn(msg, FutureWarning)\n"
     ]
    },
    {
     "data": {
      "image/png": "[encoded data removed]",
      "text/plain": [
       "<Figure size 432x288 with 1 Axes>"
      ]
     },
     "metadata": {
      "needs_background": "light"
     },
     "output_type": "display_data"
    }
   ],
   "source": [
    "sns.distplot(tgt_len);"
   ]
  },
  {
   "cell_type": "code",
   "execution_count": 89,
   "id": "southeast-consumer",
   "metadata": {},
   "outputs": [
    {
     "data": {
      "text/plain": [
       "2.1"
      ]
     },
     "execution_count": 89,
     "metadata": {},
     "output_type": "execute_result"
    }
   ],
   "source": [
    "float('2.1')"
   ]
  },
  {
   "cell_type": "code",
   "execution_count": null,
   "id": "interstate-jungle",
   "metadata": {},
   "outputs": [],
   "source": []
  }
 ],
 "metadata": {
  "kernelspec": {
   "display_name": "Python 3 (ipykernel)",
   "language": "python",
   "name": "python3"
  },
  "language_info": {
   "codemirror_mode": {
    "name": "ipython",
    "version": 3
   },
   "file_extension": ".py",
   "mimetype": "text/x-python",
   "name": "python",
   "nbconvert_exporter": "python",
   "pygments_lexer": "ipython3",
   "version": "3.8.8"
  }
 },
 "nbformat": 4,
 "nbformat_minor": 5
}
